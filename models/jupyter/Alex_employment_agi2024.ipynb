{
  "cells": [
    {
      "cell_type": "markdown",
      "metadata": {
        "id": "a22iWMTA9a0P"
      },
      "source": [
        "The data can be imported using Python's Pandas library. The successful import of the data can be verified by displaying the first few rows of the dataset."
      ]
    },
    {
      "cell_type": "code",
      "execution_count": 101,
      "metadata": {
        "id": "TUehl3aekc7d"
      },
      "outputs": [],
      "source": [
        "import numpy as np\n",
        "import pandas as pd\n",
        "import matplotlib.pyplot as plt\n",
        "import seaborn as sns"
      ]
    },
    {
      "cell_type": "code",
      "execution_count": 102,
      "metadata": {
        "colab": {
          "base_uri": "https://localhost:8080/"
        },
        "id": "agsO04J2oEMs",
        "outputId": "f0205a75-af3a-45e9-b57b-b8151d6fb9a7"
      },
      "outputs": [
        {
          "name": "stderr",
          "output_type": "stream",
          "text": [
            "C:\\Users\\alexi\\AppData\\Local\\Temp\\ipykernel_56308\\3260701280.py:1: DtypeWarning: Columns (22) have mixed types. Specify dtype option on import or set low_memory=False.\n",
            "  F_employement= pd.read_csv(\"Data.csv\")\n"
          ]
        }
      ],
      "source": [
        "F_employement= pd.read_csv(\"Data.csv\")"
      ]
    },
    {
      "cell_type": "code",
      "execution_count": 103,
      "metadata": {
        "colab": {
          "base_uri": "https://localhost:8080/"
        },
        "id": "JgAvkIUa9nH2",
        "outputId": "a4ad8349-3f21-4637-b01f-7481385940ea"
      },
      "outputs": [
        {
          "name": "stdout",
          "output_type": "stream",
          "text": [
            "          id  client_id  job_id       fid           title  date_of_posting  \\\n",
            "0  514406735     500004  198902  15552098  CLOUD ENGINEER       1464978601   \n",
            "1  518735632     500004  198902  16166171  CLOUD ENGINEER       1464978601   \n",
            "2  520263322     500004  198902  15184292  CLOUD ENGINEER       1464978601   \n",
            "3  514494796     500004  198902  16118626  CLOUD ENGINEER       1464978601   \n",
            "4  527199523     500004  198902  16429157  CLOUD ENGINEER       1464978601   \n",
            "\n",
            "   job_role  api_job_gender  year_of_passing_from  year_of_passing_to  ...  \\\n",
            "0        13               3                2010.0              2015.0  ...   \n",
            "1        13               3                2010.0              2015.0  ...   \n",
            "2        13               3                2010.0              2015.0  ...   \n",
            "3        13               3                2010.0              2015.0  ...   \n",
            "4        13               3                2010.0              2015.0  ...   \n",
            "\n",
            "   SolvencyRatio  OperatingRevenue  OperatingProfitPerShare  EarningsPerShare  \\\n",
            "0        -13.416        48238000.0                    2.299             1.459   \n",
            "1        -13.416        48238000.0                    2.299             1.459   \n",
            "2        -13.416        48238000.0                    2.299             1.459   \n",
            "3        -13.416        48238000.0                    2.299             1.459   \n",
            "4        -13.416        48238000.0                    2.299             1.459   \n",
            "\n",
            "   NetIncome  P_LBeforeTax ShareholdersFunds TotalAssets  MarketCap  \\\n",
            "0  2496000.0     3761000.0        -3889000.0  28987000.0  24790.588   \n",
            "1  2496000.0     3761000.0        -3889000.0  28987000.0  24790.588   \n",
            "2  2496000.0     3761000.0        -3889000.0  28987000.0  24790.588   \n",
            "3  2496000.0     3761000.0        -3889000.0  28987000.0  24790.588   \n",
            "4  2496000.0     3761000.0        -3889000.0  28987000.0  24790.588   \n",
            "\n",
            "   PriceEarningsRatio_Avg  \n",
            "0                   8.496  \n",
            "1                   8.496  \n",
            "2                   8.496  \n",
            "3                   8.496  \n",
            "4                   8.496  \n",
            "\n",
            "[5 rows x 56 columns]\n"
          ]
        }
      ],
      "source": [
        "# Verifying the import\n",
        "print(F_employement.head())"
      ]
    },
    {
      "cell_type": "code",
      "execution_count": 104,
      "metadata": {
        "colab": {
          "base_uri": "https://localhost:8080/",
          "height": 617
        },
        "id": "PErcr_2XoNZD",
        "outputId": "472362df-408a-41b6-80ef-7023cc84bcb2"
      },
      "outputs": [
        {
          "data": {
            "text/html": [
              "<div>\n",
              "<style scoped>\n",
              "    .dataframe tbody tr th:only-of-type {\n",
              "        vertical-align: middle;\n",
              "    }\n",
              "\n",
              "    .dataframe tbody tr th {\n",
              "        vertical-align: top;\n",
              "    }\n",
              "\n",
              "    .dataframe thead th {\n",
              "        text-align: right;\n",
              "    }\n",
              "</style>\n",
              "<table border=\"1\" class=\"dataframe\">\n",
              "  <thead>\n",
              "    <tr style=\"text-align: right;\">\n",
              "      <th></th>\n",
              "      <th>id</th>\n",
              "      <th>client_id</th>\n",
              "      <th>job_id</th>\n",
              "      <th>fid</th>\n",
              "      <th>title</th>\n",
              "      <th>date_of_posting</th>\n",
              "      <th>job_role</th>\n",
              "      <th>api_job_gender</th>\n",
              "      <th>year_of_passing_from</th>\n",
              "      <th>year_of_passing_to</th>\n",
              "      <th>...</th>\n",
              "      <th>SolvencyRatio</th>\n",
              "      <th>OperatingRevenue</th>\n",
              "      <th>OperatingProfitPerShare</th>\n",
              "      <th>EarningsPerShare</th>\n",
              "      <th>NetIncome</th>\n",
              "      <th>P_LBeforeTax</th>\n",
              "      <th>ShareholdersFunds</th>\n",
              "      <th>TotalAssets</th>\n",
              "      <th>MarketCap</th>\n",
              "      <th>PriceEarningsRatio_Avg</th>\n",
              "    </tr>\n",
              "  </thead>\n",
              "  <tbody>\n",
              "    <tr>\n",
              "      <th>0</th>\n",
              "      <td>514406735</td>\n",
              "      <td>500004</td>\n",
              "      <td>198902</td>\n",
              "      <td>15552098</td>\n",
              "      <td>CLOUD ENGINEER</td>\n",
              "      <td>1464978601</td>\n",
              "      <td>13</td>\n",
              "      <td>3</td>\n",
              "      <td>2010.0</td>\n",
              "      <td>2015.0</td>\n",
              "      <td>...</td>\n",
              "      <td>-13.416</td>\n",
              "      <td>48238000.0</td>\n",
              "      <td>2.299</td>\n",
              "      <td>1.459</td>\n",
              "      <td>2496000.0</td>\n",
              "      <td>3761000.0</td>\n",
              "      <td>-3889000.0</td>\n",
              "      <td>28987000.0</td>\n",
              "      <td>24790.588</td>\n",
              "      <td>8.496</td>\n",
              "    </tr>\n",
              "    <tr>\n",
              "      <th>1</th>\n",
              "      <td>518735632</td>\n",
              "      <td>500004</td>\n",
              "      <td>198902</td>\n",
              "      <td>16166171</td>\n",
              "      <td>CLOUD ENGINEER</td>\n",
              "      <td>1464978601</td>\n",
              "      <td>13</td>\n",
              "      <td>3</td>\n",
              "      <td>2010.0</td>\n",
              "      <td>2015.0</td>\n",
              "      <td>...</td>\n",
              "      <td>-13.416</td>\n",
              "      <td>48238000.0</td>\n",
              "      <td>2.299</td>\n",
              "      <td>1.459</td>\n",
              "      <td>2496000.0</td>\n",
              "      <td>3761000.0</td>\n",
              "      <td>-3889000.0</td>\n",
              "      <td>28987000.0</td>\n",
              "      <td>24790.588</td>\n",
              "      <td>8.496</td>\n",
              "    </tr>\n",
              "    <tr>\n",
              "      <th>2</th>\n",
              "      <td>520263322</td>\n",
              "      <td>500004</td>\n",
              "      <td>198902</td>\n",
              "      <td>15184292</td>\n",
              "      <td>CLOUD ENGINEER</td>\n",
              "      <td>1464978601</td>\n",
              "      <td>13</td>\n",
              "      <td>3</td>\n",
              "      <td>2010.0</td>\n",
              "      <td>2015.0</td>\n",
              "      <td>...</td>\n",
              "      <td>-13.416</td>\n",
              "      <td>48238000.0</td>\n",
              "      <td>2.299</td>\n",
              "      <td>1.459</td>\n",
              "      <td>2496000.0</td>\n",
              "      <td>3761000.0</td>\n",
              "      <td>-3889000.0</td>\n",
              "      <td>28987000.0</td>\n",
              "      <td>24790.588</td>\n",
              "      <td>8.496</td>\n",
              "    </tr>\n",
              "    <tr>\n",
              "      <th>3</th>\n",
              "      <td>514494796</td>\n",
              "      <td>500004</td>\n",
              "      <td>198902</td>\n",
              "      <td>16118626</td>\n",
              "      <td>CLOUD ENGINEER</td>\n",
              "      <td>1464978601</td>\n",
              "      <td>13</td>\n",
              "      <td>3</td>\n",
              "      <td>2010.0</td>\n",
              "      <td>2015.0</td>\n",
              "      <td>...</td>\n",
              "      <td>-13.416</td>\n",
              "      <td>48238000.0</td>\n",
              "      <td>2.299</td>\n",
              "      <td>1.459</td>\n",
              "      <td>2496000.0</td>\n",
              "      <td>3761000.0</td>\n",
              "      <td>-3889000.0</td>\n",
              "      <td>28987000.0</td>\n",
              "      <td>24790.588</td>\n",
              "      <td>8.496</td>\n",
              "    </tr>\n",
              "    <tr>\n",
              "      <th>4</th>\n",
              "      <td>527199523</td>\n",
              "      <td>500004</td>\n",
              "      <td>198902</td>\n",
              "      <td>16429157</td>\n",
              "      <td>CLOUD ENGINEER</td>\n",
              "      <td>1464978601</td>\n",
              "      <td>13</td>\n",
              "      <td>3</td>\n",
              "      <td>2010.0</td>\n",
              "      <td>2015.0</td>\n",
              "      <td>...</td>\n",
              "      <td>-13.416</td>\n",
              "      <td>48238000.0</td>\n",
              "      <td>2.299</td>\n",
              "      <td>1.459</td>\n",
              "      <td>2496000.0</td>\n",
              "      <td>3761000.0</td>\n",
              "      <td>-3889000.0</td>\n",
              "      <td>28987000.0</td>\n",
              "      <td>24790.588</td>\n",
              "      <td>8.496</td>\n",
              "    </tr>\n",
              "    <tr>\n",
              "      <th>...</th>\n",
              "      <td>...</td>\n",
              "      <td>...</td>\n",
              "      <td>...</td>\n",
              "      <td>...</td>\n",
              "      <td>...</td>\n",
              "      <td>...</td>\n",
              "      <td>...</td>\n",
              "      <td>...</td>\n",
              "      <td>...</td>\n",
              "      <td>...</td>\n",
              "      <td>...</td>\n",
              "      <td>...</td>\n",
              "      <td>...</td>\n",
              "      <td>...</td>\n",
              "      <td>...</td>\n",
              "      <td>...</td>\n",
              "      <td>...</td>\n",
              "      <td>...</td>\n",
              "      <td>...</td>\n",
              "      <td>...</td>\n",
              "      <td>...</td>\n",
              "    </tr>\n",
              "    <tr>\n",
              "      <th>95</th>\n",
              "      <td>514496214</td>\n",
              "      <td>500004</td>\n",
              "      <td>198902</td>\n",
              "      <td>14663562</td>\n",
              "      <td>CLOUD ENGINEER</td>\n",
              "      <td>1464978601</td>\n",
              "      <td>13</td>\n",
              "      <td>3</td>\n",
              "      <td>2010.0</td>\n",
              "      <td>2015.0</td>\n",
              "      <td>...</td>\n",
              "      <td>-13.416</td>\n",
              "      <td>48238000.0</td>\n",
              "      <td>2.299</td>\n",
              "      <td>1.459</td>\n",
              "      <td>2496000.0</td>\n",
              "      <td>3761000.0</td>\n",
              "      <td>-3889000.0</td>\n",
              "      <td>28987000.0</td>\n",
              "      <td>24790.588</td>\n",
              "      <td>8.496</td>\n",
              "    </tr>\n",
              "    <tr>\n",
              "      <th>96</th>\n",
              "      <td>514477908</td>\n",
              "      <td>500004</td>\n",
              "      <td>198902</td>\n",
              "      <td>16215109</td>\n",
              "      <td>CLOUD ENGINEER</td>\n",
              "      <td>1464978601</td>\n",
              "      <td>13</td>\n",
              "      <td>3</td>\n",
              "      <td>2010.0</td>\n",
              "      <td>2015.0</td>\n",
              "      <td>...</td>\n",
              "      <td>-13.416</td>\n",
              "      <td>48238000.0</td>\n",
              "      <td>2.299</td>\n",
              "      <td>1.459</td>\n",
              "      <td>2496000.0</td>\n",
              "      <td>3761000.0</td>\n",
              "      <td>-3889000.0</td>\n",
              "      <td>28987000.0</td>\n",
              "      <td>24790.588</td>\n",
              "      <td>8.496</td>\n",
              "    </tr>\n",
              "    <tr>\n",
              "      <th>97</th>\n",
              "      <td>514401228</td>\n",
              "      <td>500004</td>\n",
              "      <td>198902</td>\n",
              "      <td>2464998</td>\n",
              "      <td>CLOUD ENGINEER</td>\n",
              "      <td>1464978601</td>\n",
              "      <td>13</td>\n",
              "      <td>3</td>\n",
              "      <td>2010.0</td>\n",
              "      <td>2015.0</td>\n",
              "      <td>...</td>\n",
              "      <td>-13.416</td>\n",
              "      <td>48238000.0</td>\n",
              "      <td>2.299</td>\n",
              "      <td>1.459</td>\n",
              "      <td>2496000.0</td>\n",
              "      <td>3761000.0</td>\n",
              "      <td>-3889000.0</td>\n",
              "      <td>28987000.0</td>\n",
              "      <td>24790.588</td>\n",
              "      <td>8.496</td>\n",
              "    </tr>\n",
              "    <tr>\n",
              "      <th>98</th>\n",
              "      <td>512358469</td>\n",
              "      <td>500004</td>\n",
              "      <td>198902</td>\n",
              "      <td>14943355</td>\n",
              "      <td>CLOUD ENGINEER</td>\n",
              "      <td>1464978601</td>\n",
              "      <td>13</td>\n",
              "      <td>3</td>\n",
              "      <td>2010.0</td>\n",
              "      <td>2015.0</td>\n",
              "      <td>...</td>\n",
              "      <td>-13.416</td>\n",
              "      <td>48238000.0</td>\n",
              "      <td>2.299</td>\n",
              "      <td>1.459</td>\n",
              "      <td>2496000.0</td>\n",
              "      <td>3761000.0</td>\n",
              "      <td>-3889000.0</td>\n",
              "      <td>28987000.0</td>\n",
              "      <td>24790.588</td>\n",
              "      <td>8.496</td>\n",
              "    </tr>\n",
              "    <tr>\n",
              "      <th>99</th>\n",
              "      <td>514474604</td>\n",
              "      <td>500004</td>\n",
              "      <td>198902</td>\n",
              "      <td>13705451</td>\n",
              "      <td>CLOUD ENGINEER</td>\n",
              "      <td>1464978601</td>\n",
              "      <td>13</td>\n",
              "      <td>3</td>\n",
              "      <td>2010.0</td>\n",
              "      <td>2015.0</td>\n",
              "      <td>...</td>\n",
              "      <td>-13.416</td>\n",
              "      <td>48238000.0</td>\n",
              "      <td>2.299</td>\n",
              "      <td>1.459</td>\n",
              "      <td>2496000.0</td>\n",
              "      <td>3761000.0</td>\n",
              "      <td>-3889000.0</td>\n",
              "      <td>28987000.0</td>\n",
              "      <td>24790.588</td>\n",
              "      <td>8.496</td>\n",
              "    </tr>\n",
              "  </tbody>\n",
              "</table>\n",
              "<p>100 rows × 56 columns</p>\n",
              "</div>"
            ],
            "text/plain": [
              "           id  client_id  job_id       fid           title  date_of_posting  \\\n",
              "0   514406735     500004  198902  15552098  CLOUD ENGINEER       1464978601   \n",
              "1   518735632     500004  198902  16166171  CLOUD ENGINEER       1464978601   \n",
              "2   520263322     500004  198902  15184292  CLOUD ENGINEER       1464978601   \n",
              "3   514494796     500004  198902  16118626  CLOUD ENGINEER       1464978601   \n",
              "4   527199523     500004  198902  16429157  CLOUD ENGINEER       1464978601   \n",
              "..        ...        ...     ...       ...             ...              ...   \n",
              "95  514496214     500004  198902  14663562  CLOUD ENGINEER       1464978601   \n",
              "96  514477908     500004  198902  16215109  CLOUD ENGINEER       1464978601   \n",
              "97  514401228     500004  198902   2464998  CLOUD ENGINEER       1464978601   \n",
              "98  512358469     500004  198902  14943355  CLOUD ENGINEER       1464978601   \n",
              "99  514474604     500004  198902  13705451  CLOUD ENGINEER       1464978601   \n",
              "\n",
              "    job_role  api_job_gender  year_of_passing_from  year_of_passing_to  ...  \\\n",
              "0         13               3                2010.0              2015.0  ...   \n",
              "1         13               3                2010.0              2015.0  ...   \n",
              "2         13               3                2010.0              2015.0  ...   \n",
              "3         13               3                2010.0              2015.0  ...   \n",
              "4         13               3                2010.0              2015.0  ...   \n",
              "..       ...             ...                   ...                 ...  ...   \n",
              "95        13               3                2010.0              2015.0  ...   \n",
              "96        13               3                2010.0              2015.0  ...   \n",
              "97        13               3                2010.0              2015.0  ...   \n",
              "98        13               3                2010.0              2015.0  ...   \n",
              "99        13               3                2010.0              2015.0  ...   \n",
              "\n",
              "    SolvencyRatio  OperatingRevenue  OperatingProfitPerShare  \\\n",
              "0         -13.416        48238000.0                    2.299   \n",
              "1         -13.416        48238000.0                    2.299   \n",
              "2         -13.416        48238000.0                    2.299   \n",
              "3         -13.416        48238000.0                    2.299   \n",
              "4         -13.416        48238000.0                    2.299   \n",
              "..            ...               ...                      ...   \n",
              "95        -13.416        48238000.0                    2.299   \n",
              "96        -13.416        48238000.0                    2.299   \n",
              "97        -13.416        48238000.0                    2.299   \n",
              "98        -13.416        48238000.0                    2.299   \n",
              "99        -13.416        48238000.0                    2.299   \n",
              "\n",
              "    EarningsPerShare  NetIncome  P_LBeforeTax ShareholdersFunds TotalAssets  \\\n",
              "0              1.459  2496000.0     3761000.0        -3889000.0  28987000.0   \n",
              "1              1.459  2496000.0     3761000.0        -3889000.0  28987000.0   \n",
              "2              1.459  2496000.0     3761000.0        -3889000.0  28987000.0   \n",
              "3              1.459  2496000.0     3761000.0        -3889000.0  28987000.0   \n",
              "4              1.459  2496000.0     3761000.0        -3889000.0  28987000.0   \n",
              "..               ...        ...           ...               ...         ...   \n",
              "95             1.459  2496000.0     3761000.0        -3889000.0  28987000.0   \n",
              "96             1.459  2496000.0     3761000.0        -3889000.0  28987000.0   \n",
              "97             1.459  2496000.0     3761000.0        -3889000.0  28987000.0   \n",
              "98             1.459  2496000.0     3761000.0        -3889000.0  28987000.0   \n",
              "99             1.459  2496000.0     3761000.0        -3889000.0  28987000.0   \n",
              "\n",
              "    MarketCap  PriceEarningsRatio_Avg  \n",
              "0   24790.588                   8.496  \n",
              "1   24790.588                   8.496  \n",
              "2   24790.588                   8.496  \n",
              "3   24790.588                   8.496  \n",
              "4   24790.588                   8.496  \n",
              "..        ...                     ...  \n",
              "95  24790.588                   8.496  \n",
              "96  24790.588                   8.496  \n",
              "97  24790.588                   8.496  \n",
              "98  24790.588                   8.496  \n",
              "99  24790.588                   8.496  \n",
              "\n",
              "[100 rows x 56 columns]"
            ]
          },
          "execution_count": 104,
          "metadata": {},
          "output_type": "execute_result"
        }
      ],
      "source": [
        "F_employement.head(100)"
      ]
    },
    {
      "cell_type": "code",
      "execution_count": 105,
      "metadata": {
        "id": "6_x8hG4if33O"
      },
      "outputs": [],
      "source": [
        "# Chart for applications by furthest education acheived\n",
        "# matplotlib import pyplot as plt\n",
        "#import seaborn as sns\n",
        "#_df_4.groupby('course_type').size().plot(kind='barh', color=sns.palettes.mpl_palette('Dark2'))\n",
        "#plt.gca().spines[['top', 'right',]].set_visible(False)"
      ]
    },
    {
      "cell_type": "code",
      "execution_count": 106,
      "metadata": {
        "colab": {
          "base_uri": "https://localhost:8080/"
        },
        "id": "_EAyqwvLo-nw",
        "outputId": "dd2f1efd-97a6-402a-bf8c-7a23db2c4a3c"
      },
      "outputs": [
        {
          "data": {
            "text/plain": [
              "pandas.core.frame.DataFrame"
            ]
          },
          "execution_count": 106,
          "metadata": {},
          "output_type": "execute_result"
        }
      ],
      "source": [
        "type(F_employement)"
      ]
    },
    {
      "cell_type": "code",
      "execution_count": 107,
      "metadata": {
        "colab": {
          "base_uri": "https://localhost:8080/"
        },
        "id": "IETXiW47pG-u",
        "outputId": "0286f199-5c8d-4ac6-e06c-76a080e702fb"
      },
      "outputs": [
        {
          "data": {
            "text/plain": [
              "RangeIndex(start=0, stop=6315274, step=1)"
            ]
          },
          "execution_count": 107,
          "metadata": {},
          "output_type": "execute_result"
        }
      ],
      "source": [
        "F_employement.index"
      ]
    },
    {
      "cell_type": "code",
      "execution_count": 108,
      "metadata": {
        "colab": {
          "base_uri": "https://localhost:8080/"
        },
        "id": "YQUm5VnkpLd4",
        "outputId": "90597b20-4540-47cd-ed05-6e3324360371"
      },
      "outputs": [
        {
          "data": {
            "text/plain": [
              "6315274"
            ]
          },
          "execution_count": 108,
          "metadata": {},
          "output_type": "execute_result"
        }
      ],
      "source": [
        "#number of rows\n",
        "F_employement.shape[0]"
      ]
    },
    {
      "cell_type": "code",
      "execution_count": 109,
      "metadata": {
        "colab": {
          "base_uri": "https://localhost:8080/"
        },
        "id": "RnMiYGmIpN8A",
        "outputId": "2173c50d-de0c-44f4-a2df-c992bd3bfd18"
      },
      "outputs": [
        {
          "data": {
            "text/plain": [
              "56"
            ]
          },
          "execution_count": 109,
          "metadata": {},
          "output_type": "execute_result"
        }
      ],
      "source": [
        "#number of columns\n",
        "F_employement.shape[1]"
      ]
    },
    {
      "cell_type": "code",
      "execution_count": 110,
      "metadata": {
        "colab": {
          "base_uri": "https://localhost:8080/"
        },
        "id": "qO4plW5kE_Yr",
        "outputId": "24a5f960-1fdd-4376-fd0c-3af4d0c1587a"
      },
      "outputs": [
        {
          "data": {
            "text/plain": [
              "CalLetterFlag\n",
              "0    6120190\n",
              "1     195084\n",
              "Name: count, dtype: int64"
            ]
          },
          "execution_count": 110,
          "metadata": {},
          "output_type": "execute_result"
        }
      ],
      "source": [
        "#number of people with diabetes\n",
        "outcome_counts = F_employement['CalLetterFlag'].value_counts()\n",
        "outcome_counts"
      ]
    },
    {
      "cell_type": "code",
      "execution_count": 111,
      "metadata": {
        "id": "tOy4NYAKfaJ5"
      },
      "outputs": [],
      "source": [
        "#F_employement.describe()"
      ]
    },
    {
      "cell_type": "code",
      "execution_count": 112,
      "metadata": {
        "colab": {
          "base_uri": "https://localhost:8080/"
        },
        "id": "s9ozEavMMA6k",
        "outputId": "cbcf9179-f5f8-421a-b23b-3e32caeb3190"
      },
      "outputs": [
        {
          "name": "stdout",
          "output_type": "stream",
          "text": [
            "<class 'pandas.core.frame.DataFrame'>\n",
            "RangeIndex: 6315274 entries, 0 to 6315273\n",
            "Data columns (total 56 columns):\n",
            " #   Column                       Dtype  \n",
            "---  ------                       -----  \n",
            " 0   id                           int64  \n",
            " 1   client_id                    int64  \n",
            " 2   job_id                       int64  \n",
            " 3   fid                          int64  \n",
            " 4   title                        object \n",
            " 5   date_of_posting              int64  \n",
            " 6   job_role                     int64  \n",
            " 7   api_job_gender               int64  \n",
            " 8   year_of_passing_from         float64\n",
            " 9   year_of_passing_to           float64\n",
            " 10  hq_marks_percentage_from     float64\n",
            " 11  hq_marks_percentage_to       float64\n",
            " 12  hq_marks_cgpa_from           float64\n",
            " 13  hq_marks_cgpa_to             float64\n",
            " 14  api_applications_created     int64  \n",
            " 15  call_letter_date             float64\n",
            " 16  applier_type                 object \n",
            " 17  course_type                  object \n",
            " 18  users_city_id                int64  \n",
            " 19  users_state_id               int64  \n",
            " 20  profile_percentage           int64  \n",
            " 21  no_of_employees              float64\n",
            " 22  bd_lnkdin_co_profile_emp2    object \n",
            " 23  FemaleFlag                   int64  \n",
            " 24  CalLetterFlag                int64  \n",
            " 25  Chennai                      int64  \n",
            " 26  Kolkata                      int64  \n",
            " 27  Hyderabad                    int64  \n",
            " 28  NCR                          int64  \n",
            " 29  Ahmedabad                    int64  \n",
            " 30  Bangalore                    int64  \n",
            " 31  MumbaiPune                   int64  \n",
            " 32  India_HQ                     int64  \n",
            " 33  napplications_t_male_jbrl    int64  \n",
            " 34  napplications_t_female_jbrl  int64  \n",
            " 35  napplicants_t_male_jbrl      int64  \n",
            " 36  napplicants_t_female_jbrl    int64  \n",
            " 37  client_id_napplications_t    int64  \n",
            " 38  client_id_njob_ids_t         int64  \n",
            " 39  njob_ids_t_jbrl              int64  \n",
            " 40  yearBirth                    int64  \n",
            " 41  CashFlow                     float64\n",
            " 42  ProfitMargin_Percent         float64\n",
            " 43  ROE_Percent                  float64\n",
            " 44  ROCE_Percent                 float64\n",
            " 45  CurrentRatio                 float64\n",
            " 46  SolvencyRatio                float64\n",
            " 47  OperatingRevenue             float64\n",
            " 48  OperatingProfitPerShare      float64\n",
            " 49  EarningsPerShare             float64\n",
            " 50  NetIncome                    float64\n",
            " 51  P_LBeforeTax                 float64\n",
            " 52  ShareholdersFunds            float64\n",
            " 53  TotalAssets                  float64\n",
            " 54  MarketCap                    float64\n",
            " 55  PriceEarningsRatio_Avg       float64\n",
            "dtypes: float64(23), int64(29), object(4)\n",
            "memory usage: 2.6+ GB\n"
          ]
        }
      ],
      "source": [
        "F_employement.info()"
      ]
    },
    {
      "cell_type": "code",
      "execution_count": 113,
      "metadata": {
        "colab": {
          "base_uri": "https://localhost:8080/"
        },
        "id": "_M5O8l1er6Qh",
        "outputId": "1e73619e-275c-4379-d504-54aa9d6c72fd"
      },
      "outputs": [
        {
          "data": {
            "text/plain": [
              "id                                   0\n",
              "client_id                            0\n",
              "job_id                               0\n",
              "fid                                  0\n",
              "title                                0\n",
              "date_of_posting                      0\n",
              "job_role                             0\n",
              "api_job_gender                       0\n",
              "year_of_passing_from           1915731\n",
              "year_of_passing_to             1904895\n",
              "hq_marks_percentage_from       3517019\n",
              "hq_marks_percentage_to           87011\n",
              "hq_marks_cgpa_from             4300083\n",
              "hq_marks_cgpa_to                 87011\n",
              "api_applications_created             0\n",
              "call_letter_date               6134564\n",
              "applier_type                         0\n",
              "course_type                       2166\n",
              "users_city_id                        0\n",
              "users_state_id                       0\n",
              "profile_percentage                   0\n",
              "no_of_employees                4626102\n",
              "bd_lnkdin_co_profile_emp2      3168641\n",
              "FemaleFlag                           0\n",
              "CalLetterFlag                        0\n",
              "Chennai                              0\n",
              "Kolkata                              0\n",
              "Hyderabad                            0\n",
              "NCR                                  0\n",
              "Ahmedabad                            0\n",
              "Bangalore                            0\n",
              "MumbaiPune                           0\n",
              "India_HQ                             0\n",
              "napplications_t_male_jbrl            0\n",
              "napplications_t_female_jbrl          0\n",
              "napplicants_t_male_jbrl              0\n",
              "napplicants_t_female_jbrl            0\n",
              "client_id_napplications_t            0\n",
              "client_id_njob_ids_t                 0\n",
              "njob_ids_t_jbrl                      0\n",
              "yearBirth                            0\n",
              "CashFlow                       5173497\n",
              "ProfitMargin_Percent           5038242\n",
              "ROE_Percent                    5127327\n",
              "ROCE_Percent                   5636744\n",
              "CurrentRatio                   4919612\n",
              "SolvencyRatio                  4874515\n",
              "OperatingRevenue               4978547\n",
              "OperatingProfitPerShare        6061866\n",
              "EarningsPerShare               6049985\n",
              "NetIncome                      4974582\n",
              "P_LBeforeTax                   4979569\n",
              "ShareholdersFunds              4824751\n",
              "TotalAssets                    4825268\n",
              "MarketCap                      6049985\n",
              "PriceEarningsRatio_Avg         6106130\n",
              "dtype: int64"
            ]
          },
          "execution_count": 113,
          "metadata": {},
          "output_type": "execute_result"
        }
      ],
      "source": [
        "# Check for missing valuesd\n",
        "F_employement.isnull().sum()"
      ]
    },
    {
      "cell_type": "markdown",
      "metadata": {},
      "source": [
        "Data Cleaning"
      ]
    },
    {
      "cell_type": "code",
      "execution_count": 114,
      "metadata": {},
      "outputs": [],
      "source": [
        "# Remove data points with odd years of birth\n",
        "F_employement = F_employement[(F_employement['yearBirth'] >= 1950) & (F_employement['yearBirth'] <= 2007)]"
      ]
    },
    {
      "cell_type": "markdown",
      "metadata": {
        "id": "6SLv-qg5RZrx"
      },
      "source": [
        "**splitting data**"
      ]
    },
    {
      "cell_type": "code",
      "execution_count": 115,
      "metadata": {
        "colab": {
          "base_uri": "https://localhost:8080/"
        },
        "id": "8I0g5Zn7RdIq",
        "outputId": "e7269a01-9ac3-4fc3-cf52-bb5ba10cb173"
      },
      "outputs": [
        {
          "name": "stdout",
          "output_type": "stream",
          "text": [
            "6310251 6310251\n",
            "3848446 2461805\n"
          ]
        }
      ],
      "source": [
        "# Ensure the DataFrame includes all rows by checking the total number of rows before and after the split\n",
        "total_rows_before_split = F_employement.shape[0]\n",
        "\n",
        "split_value = 1489039200\n",
        "# Perform the split again to include the clarification\n",
        "after_df = F_employement[F_employement['api_applications_created'] >= split_value]\n",
        "before_df = F_employement[F_employement['api_applications_created'] < split_value]\n",
        "\n",
        "# Verify that all rows are included in the split\n",
        "total_rows_after_split = after_df.shape[0] + before_df.shape[0]\n",
        "\n",
        "num_after = after_df.shape[0]\n",
        "num_before = before_df.shape[0]\n",
        "\n",
        "print(total_rows_before_split, total_rows_after_split)\n",
        "print(after_df.shape[0], before_df.shape[0])"
      ]
    },
    {
      "cell_type": "code",
      "execution_count": 116,
      "metadata": {
        "id": "yGpYYTHYkNRF"
      },
      "outputs": [
        {
          "name": "stdout",
          "output_type": "stream",
          "text": [
            "Percent Female Applications: \n",
            "\tBefore:  36.99878747504372\n",
            "\tAfter:  39.44742891026664\n"
          ]
        }
      ],
      "source": [
        "female_after_df = after_df[after_df['FemaleFlag'] == 1]\n",
        "male_after_df = after_df[after_df['FemaleFlag'] == 0]\n",
        "\n",
        "female_before_df = before_df[before_df['FemaleFlag'] == 1]\n",
        "male_before_df = before_df[before_df['FemaleFlag'] == 0]\n",
        "\n",
        "print('Percent Female Applications: ')\n",
        "print('\\tBefore: ', 100*female_before_df.shape[0]/num_before)\n",
        "print('\\tAfter: ', 100*female_after_df.shape[0]/num_after)\n",
        "\n",
        "# TODO:: statistical test to see if this is statistically significant!!"
      ]
    },
    {
      "cell_type": "code",
      "execution_count": 117,
      "metadata": {},
      "outputs": [
        {
          "name": "stdout",
          "output_type": "stream",
          "text": [
            "Z-statistic: -40.55119451900522\n",
            "P-value: 0.0\n",
            "Reject the null hypothesis - There is a significant difference in the proportion of female applications.\n"
          ]
        }
      ],
      "source": [
        "import statsmodels.api as sm\n",
        "import numpy as np\n",
        "\n",
        "# Given values\n",
        "num_applications_before = num_before\n",
        "num_applications_after = num_after\n",
        "\n",
        "# Calculate the number of females in each group\n",
        "num_female_before = female_before_df.shape[0]\n",
        "num_female_after = female_after_df.shape[0]\n",
        "\n",
        "# Calculate the number of males in each group\n",
        "num_male_before = num_applications_before - num_female_before\n",
        "num_male_after = num_applications_after - num_female_after\n",
        "\n",
        "# Create a 2x2 contingency table\n",
        "contingency_table = np.array([[num_female_before, num_male_before],\n",
        "                               [num_female_after, num_male_after]])\n",
        "\n",
        "# Perform the z-test\n",
        "z_stat, p_value = sm.stats.proportions_ztest(contingency_table[:, 0], contingency_table.sum(axis=0))\n",
        "\n",
        "# Output the results\n",
        "print(f\"Z-statistic: {z_stat}\")\n",
        "print(f\"P-value: {p_value}\")\n",
        "\n",
        "# Check if the p-value is less than the significance level (e.g., 0.05)\n",
        "if p_value < 0.05:\n",
        "    print(\"Reject the null hypothesis - There is a significant difference in the proportion of female applications.\")\n",
        "else:\n",
        "    print(\"Fail to reject the null hypothesis - There is no significant difference in the proportion of female applications.\")\n"
      ]
    },
    {
      "cell_type": "code",
      "execution_count": 118,
      "metadata": {},
      "outputs": [
        {
          "name": "stdout",
          "output_type": "stream",
          "text": [
            "Chi-square statistic: 3802.1416273315785\n",
            "P-value: 0.0\n",
            "Reject the null hypothesis - There is a significant difference in the proportion of female applications.\n"
          ]
        }
      ],
      "source": [
        "import numpy as np\n",
        "from scipy.stats import chi2_contingency\n",
        "\n",
        "# Given values\n",
        "num_applications_before = num_before\n",
        "num_applications_after = num_after\n",
        "\n",
        "# Create a 2x2 contingency table\n",
        "contingency_table = np.array([[num_female_before, num_male_before],\n",
        "                               [num_female_after, num_male_after]])\n",
        "\n",
        "# Perform the chi-square test for independence\n",
        "chi2_stat, p_value, _, _ = chi2_contingency(contingency_table)\n",
        "\n",
        "# Output the results\n",
        "print(f\"Chi-square statistic: {chi2_stat}\")\n",
        "print(f\"P-value: {p_value}\")\n",
        "\n",
        "# Check if the p-value is less than the significance level (e.g., 0.05)\n",
        "if p_value < 0.05:\n",
        "    print(\"Reject the null hypothesis - There is a significant difference in the proportion of female applications.\")\n",
        "else:\n",
        "    print(\"Fail to reject the null hypothesis - There is no significant difference in the proportion of female applications.\")\n"
      ]
    },
    {
      "cell_type": "code",
      "execution_count": 119,
      "metadata": {
        "colab": {
          "base_uri": "https://localhost:8080/"
        },
        "id": "YWIJ7FCzRZEy",
        "outputId": "cb96628c-dcb3-4a3d-ece7-5b625ffb1e78"
      },
      "outputs": [
        {
          "name": "stdout",
          "output_type": "stream",
          "text": [
            "Percent Interviewed Applications that are Female: \n",
            "\tBefore:  37.15212794400019\n",
            "\tAfter:  37.50432568168307\n"
          ]
        }
      ],
      "source": [
        "#dataframes just applications that got interview\n",
        "after_interviewed = after_df[after_df['CalLetterFlag'] == 1]\n",
        "before_interviewed = before_df[before_df['CalLetterFlag'] == 1]\n",
        "\n",
        "female_after_interviewed_df = after_interviewed[after_interviewed['FemaleFlag'] == 1]\n",
        "female_before_interviewed_df = before_interviewed[before_interviewed['FemaleFlag'] == 1]\n",
        "\n",
        "\n",
        "print('Percent Interviewed Applications that are Female: ')\n",
        "print('\\tBefore: ', 100*female_before_interviewed_df.shape[0]/before_interviewed.shape[0])\n",
        "print('\\tAfter: ', 100*female_after_interviewed_df.shape[0]/after_interviewed.shape[0])\n",
        "\n",
        "# TODO:: statistical test to see if this is statistically significant!!"
      ]
    },
    {
      "cell_type": "code",
      "execution_count": 120,
      "metadata": {},
      "outputs": [
        {
          "name": "stdout",
          "output_type": "stream",
          "text": [
            "Z-statistic: 32.53423183752683\n",
            "P-value: 3.499409491084206e-232\n",
            "Reject the null hypothesis - There is a significant difference in the proportion of female applications that are interviewed.\n"
          ]
        }
      ],
      "source": [
        "import statsmodels.api as sm\n",
        "import numpy as np\n",
        "\n",
        "# Given values\n",
        "num_interviewed_applications_before = before_interviewed.shape[0]\n",
        "num_interviewed_applications_after = after_interviewed.shape[0]\n",
        "\n",
        "# Calculate the number of females in each group\n",
        "num_female_before = female_before_interviewed_df.shape[0]\n",
        "num_female_after = female_after_interviewed_df.shape[0]\n",
        "\n",
        "# Calculate the number of males in each group\n",
        "num_male_before = num_interviewed_applications_before - num_female_before\n",
        "num_male_after = num_interviewed_applications_after - num_female_after\n",
        "\n",
        "# Create a 2x2 contingency table\n",
        "contingency_table = np.array([[num_female_before, num_male_before],\n",
        "                               [num_female_after, num_male_after]])\n",
        "\n",
        "# Perform the z-test\n",
        "z_stat, p_value = sm.stats.proportions_ztest(contingency_table[:, 0], contingency_table.sum(axis=0))\n",
        "\n",
        "# Output the results\n",
        "print(f\"Z-statistic: {z_stat}\")\n",
        "print(f\"P-value: {p_value}\")\n",
        "\n",
        "# Check if the p-value is less than the significance level (e.g., 0.05)\n",
        "if p_value < 0.05:\n",
        "    print(\"Reject the null hypothesis - There is a significant difference in the proportion of female applications that are interviewed.\")\n",
        "else:\n",
        "    print(\"Fail to reject the null hypothesis - There is no significant difference in the proportion of female applications that are interviewed.\")\n"
      ]
    },
    {
      "cell_type": "code",
      "execution_count": 121,
      "metadata": {
        "colab": {
          "base_uri": "https://localhost:8080/"
        },
        "id": "OtxTSKoydCwp",
        "outputId": "84252cc5-710a-44a4-bcb1-b5b2e642eee0"
      },
      "outputs": [
        {
          "name": "stdout",
          "output_type": "stream",
          "text": [
            "Job Posting Preferred Gender\n",
            "Before: api_job_gender\n",
            "Both      97.230000\n",
            "Male       2.356076\n",
            "Female     0.413924\n",
            "Name: proportion, dtype: float64\n",
            "After: api_job_gender\n",
            "Both      96.728056\n",
            "Male       2.882150\n",
            "Female     0.389794\n",
            "Name: proportion, dtype: float64\n"
          ]
        },
        {
          "name": "stderr",
          "output_type": "stream",
          "text": [
            "C:\\Users\\alexi\\AppData\\Local\\Temp\\ipykernel_56308\\1469886116.py:2: SettingWithCopyWarning: \n",
            "A value is trying to be set on a copy of a slice from a DataFrame\n",
            "\n",
            "See the caveats in the documentation: https://pandas.pydata.org/pandas-docs/stable/user_guide/indexing.html#returning-a-view-versus-a-copy\n",
            "  before_df['api_job_gender'].replace(-1, 3, inplace=True)\n",
            "C:\\Users\\alexi\\AppData\\Local\\Temp\\ipykernel_56308\\1469886116.py:3: SettingWithCopyWarning: \n",
            "A value is trying to be set on a copy of a slice from a DataFrame\n",
            "\n",
            "See the caveats in the documentation: https://pandas.pydata.org/pandas-docs/stable/user_guide/indexing.html#returning-a-view-versus-a-copy\n",
            "  after_df['api_job_gender'].replace(-1, 3, inplace=True)\n"
          ]
        }
      ],
      "source": [
        "# Replace -1 with 3 (-1 to both)\n",
        "before_df['api_job_gender'].replace(-1, 3, inplace=True)\n",
        "after_df['api_job_gender'].replace(-1, 3, inplace=True)\n",
        "\n",
        "gender_labels = {1: 'Male', 2: 'Female', 3: 'Both', -1: 'Both'}  # Replace -1 with 'Both'\n",
        "\n",
        "value_percentages_before = before_df['api_job_gender'].value_counts(normalize=True) * 100\n",
        "value_percentages_after = after_df['api_job_gender'].value_counts(normalize=True) * 100\n",
        "\n",
        "# Display the percentages\n",
        "print('Job Posting Preferred Gender')\n",
        "print('Before:', value_percentages_before.rename(index=gender_labels))\n",
        "print('After:', value_percentages_after.rename(index=gender_labels))\n"
      ]
    },
    {
      "cell_type": "code",
      "execution_count": 122,
      "metadata": {},
      "outputs": [
        {
          "name": "stdout",
          "output_type": "stream",
          "text": [
            "1518113\n"
          ]
        }
      ],
      "source": [
        "print(after_df[after_df[\"FemaleFlag\"] == 1].shape[0])"
      ]
    },
    {
      "cell_type": "code",
      "execution_count": 123,
      "metadata": {
        "id": "OSCGf69ueccw"
      },
      "outputs": [
        {
          "name": "stderr",
          "output_type": "stream",
          "text": [
            "C:\\Users\\alexi\\AppData\\Local\\Temp\\ipykernel_56308\\2485357630.py:4: SettingWithCopyWarning: \n",
            "A value is trying to be set on a copy of a slice from a DataFrame\n",
            "\n",
            "See the caveats in the documentation: https://pandas.pydata.org/pandas-docs/stable/user_guide/indexing.html#returning-a-view-versus-a-copy\n",
            "  before_df['api_job_gender'].replace(-1, 3, inplace=True)\n",
            "C:\\Users\\alexi\\AppData\\Local\\Temp\\ipykernel_56308\\2485357630.py:5: SettingWithCopyWarning: \n",
            "A value is trying to be set on a copy of a slice from a DataFrame\n",
            "\n",
            "See the caveats in the documentation: https://pandas.pydata.org/pandas-docs/stable/user_guide/indexing.html#returning-a-view-versus-a-copy\n",
            "  after_df['api_job_gender'].replace(-1, 3, inplace=True)\n"
          ]
        },
        {
          "name": "stdout",
          "output_type": "stream",
          "text": [
            "Job Posting Preferred Gender for Companies Headquartered in India\n",
            "Before: api_job_gender\n",
            "Both      96.343681\n",
            "Male       3.364383\n",
            "Female     0.291936\n",
            "Name: proportion, dtype: float64\n",
            "After: api_job_gender\n",
            "Both      96.752860\n",
            "Male       2.989393\n",
            "Female     0.257747\n",
            "Name: proportion, dtype: float64\n",
            "Job Posting Preferred Gender for Companies not Headquartered in India\n",
            "Before: api_job_gender\n",
            "Both      98.278045\n",
            "Male       1.301020\n",
            "Female     0.420935\n",
            "Name: proportion, dtype: float64\n",
            "After: api_job_gender\n",
            "Both      98.526623\n",
            "Male       1.325893\n",
            "Female     0.147485\n",
            "Name: proportion, dtype: float64\n"
          ]
        }
      ],
      "source": [
        "# By Headquarters Location\n",
        "\n",
        "# Replace -1 with 3 (-1 to both genders are preferred)\n",
        "before_df['api_job_gender'].replace(-1, 3, inplace=True)\n",
        "after_df['api_job_gender'].replace(-1, 3, inplace=True)\n",
        "\n",
        "# Find  rows with 1 in the India_HQ column (hq location in India)\n",
        "hq_india_before = before_df[before_df['India_HQ'] == 1]\n",
        "hq_india_after = after_df[after_df['India_HQ'] == 1]\n",
        "\n",
        "gender_labels = {1: 'Male', 2: 'Female', 3: 'Both', -1: 'Both'}  # Replace -1 with 'Both'\n",
        "\n",
        "value_percentages_before = hq_india_before['api_job_gender'].value_counts(normalize=True) * 100\n",
        "value_percentages_after = hq_india_after['api_job_gender'].value_counts(normalize=True) * 100\n",
        "\n",
        "# Display the percentages\n",
        "print('Job Posting Preferred Gender for Companies Headquartered in India')\n",
        "print('Before:', value_percentages_before.rename(index=gender_labels))\n",
        "print('After:', value_percentages_after.rename(index=gender_labels))\n",
        "\n",
        "# Find  rows with 0 in the India_HQ column (hq location not in India)\n",
        "hq_notindia_before = before_df[before_df['India_HQ'] == 0]\n",
        "hq_notindia_after = after_df[after_df['India_HQ'] == 0]\n",
        "\n",
        "gender_labels = {1: 'Male', 2: 'Female', 3: 'Both', -1: 'Both'}  # Replace -1 with 'Both'\n",
        "\n",
        "value_percentages_before = hq_notindia_before['api_job_gender'].value_counts(normalize=True) * 100\n",
        "value_percentages_after = hq_notindia_after['api_job_gender'].value_counts(normalize=True) * 100\n",
        "\n",
        "# Display the percentages\n",
        "print('Job Posting Preferred Gender for Companies not Headquartered in India')\n",
        "print('Before:', value_percentages_before.rename(index=gender_labels))\n",
        "print('After:', value_percentages_after.rename(index=gender_labels))"
      ]
    },
    {
      "cell_type": "code",
      "execution_count": 124,
      "metadata": {},
      "outputs": [
        {
          "data": {
            "text/plain": [
              "course_type\n",
              "graduation         5239224\n",
              "pg                 1007560\n",
              "others_category      61731\n",
              "Name: count, dtype: int64"
            ]
          },
          "execution_count": 124,
          "metadata": {},
          "output_type": "execute_result"
        }
      ],
      "source": [
        "# Educational attainment of all applications\n",
        "F_employement['course_type'].value_counts()"
      ]
    },
    {
      "cell_type": "code",
      "execution_count": 125,
      "metadata": {},
      "outputs": [
        {
          "name": "stdout",
          "output_type": "stream",
          "text": [
            "Before The Law, __ of female applications furthest education was grad: 0.7885452736930167\n",
            "After: 0.8309625172829691\n",
            "Before The Law, __ of female applications furthest education was postgrad: 0.2081325109404746\n",
            "After: 0.1651655706788625\n",
            "Before The Law, __ of female applications furthest education was other: 0.002930268609785714\n",
            "After: 0.003783644564008081\n"
          ]
        }
      ],
      "source": [
        "# Educational attainment of applications before and after the law was passed\n",
        "before_grad = female_before_df[female_before_df['course_type'] == 'graduation']\n",
        "before_pg = female_before_df[female_before_df['course_type'] == 'pg']\n",
        "before_other = female_before_df[female_before_df['course_type'] == 'others_category']\n",
        "\n",
        "after_grad = female_after_df[female_after_df['course_type'] == 'graduation']\n",
        "after_pg = female_after_df[female_after_df['course_type'] == 'pg']\n",
        "after_other = female_after_df[female_after_df['course_type'] == 'others_category']\n",
        "\n",
        "print('Before The Law, __ of female applications furthest education was grad:', before_grad.shape[0]/female_before_df.shape[0])\n",
        "print('After:', after_grad.shape[0]/female_after_df.shape[0])\n",
        "print('Before The Law, __ of female applications furthest education was postgrad:', before_pg.shape[0]/female_before_df.shape[0])\n",
        "print('After:', after_pg.shape[0]/female_after_df.shape[0])\n",
        "print('Before The Law, __ of female applications furthest education was other:', before_other.shape[0]/female_before_df.shape[0])\n",
        "print('After:', after_other.shape[0]/female_after_df.shape[0])"
      ]
    },
    {
      "cell_type": "code",
      "execution_count": 126,
      "metadata": {},
      "outputs": [
        {
          "name": "stdout",
          "output_type": "stream",
          "text": [
            "Before the law, there were 718237 female applications with grad as furthest education\n",
            "Before the law, there were 25901 female applications with grad as furthest education that were interviewed\n",
            "After the law, there were 1261495 female applications with grad as furthest education\n",
            "After the law, there were 37372 female applications with grad as furthest education that were interviewed\n",
            "\n",
            "Before the law, there were 189575 female applications with postgrad as furthest education\n",
            "Before the law, there were 4639 female applications with postgrad as furthest education that were interviewed\n",
            "After the law, there were 250740 female applications with postgrad as furthest education\n",
            "After the law, there were 4841 female applications with postgrad as furthest education that were interviewed\n",
            "\n",
            "Before the law, there were 2669 female applications with \"other\" as furthest education\n",
            "Before the law, there were 31 female applications with \"other\" as furthest education that were interviewed\n",
            "After the law, there were 5744 female applications with \"other\" as furthest education\n",
            "After the law, there were 53 female applications with \"other\" as furthest education that were interviewed\n",
            "\n"
          ]
        }
      ],
      "source": [
        "print('Before the law, there were {} female applications with grad as furthest education'.format(before_grad.shape[0]))\n",
        "before_grad_interview = before_grad[before_grad['CalLetterFlag'] == 1]\n",
        "print('Before the law, there were {} female applications with grad as furthest education that were interviewed'.format(before_grad_interview.shape[0]))\n",
        "\n",
        "print('After the law, there were {} female applications with grad as furthest education'.format(after_grad.shape[0]))\n",
        "after_grad_interview = after_grad[after_grad['CalLetterFlag'] == 1]\n",
        "print('After the law, there were {} female applications with grad as furthest education that were interviewed\\n'.format(after_grad_interview.shape[0]))\n",
        "\n",
        "print('Before the law, there were {} female applications with postgrad as furthest education'.format(before_pg.shape[0]))\n",
        "before_pg_interview = before_pg[before_pg['CalLetterFlag'] == 1]\n",
        "print('Before the law, there were {} female applications with postgrad as furthest education that were interviewed'.format(before_pg_interview.shape[0]))\n",
        "\n",
        "print('After the law, there were {} female applications with postgrad as furthest education'.format(after_pg.shape[0]))\n",
        "after_pg_interview = after_pg[after_pg['CalLetterFlag'] == 1]\n",
        "print('After the law, there were {} female applications with postgrad as furthest education that were interviewed\\n'.format(after_pg_interview.shape[0]))\n",
        "\n",
        "print('Before the law, there were {} female applications with \"other\" as furthest education'.format(before_other.shape[0]))\n",
        "before_other_interview = before_other[before_other['CalLetterFlag'] == 1]\n",
        "print('Before the law, there were {} female applications with \"other\" as furthest education that were interviewed'.format(before_other_interview.shape[0]))\n",
        "\n",
        "print('After the law, there were {} female applications with \"other\" as furthest education'.format(after_other.shape[0]))\n",
        "after_other_interview = after_other[after_other['CalLetterFlag'] == 1]\n",
        "print('After the law, there were {} female applications with \"other\" as furthest education that were interviewed\\n'.format(after_other_interview.shape[0]))\n",
        "\n"
      ]
    },
    {
      "cell_type": "code",
      "execution_count": 127,
      "metadata": {},
      "outputs": [
        {
          "name": "stdout",
          "output_type": "stream",
          "text": [
            "Percent of applicaations being from women by company size\n",
            "╒══════════════════════╤══════════════╤═════════════╕\n",
            "│ Company Size         │   Before (%) │   After (%) │\n",
            "╞══════════════════════╪══════════════╪═════════════╡\n",
            "│ 51-200 employees     │      37.331  │     39.3994 │\n",
            "├──────────────────────┼──────────────┼─────────────┤\n",
            "│ 201-1000 employees   │      36.9128 │     40.3201 │\n",
            "├──────────────────────┼──────────────┼─────────────┤\n",
            "│ 1001-10000 employees │      38.0488 │     40.8122 │\n",
            "├──────────────────────┼──────────────┼─────────────┤\n",
            "│ 10001+ employees     │      37.1206 │     42.2429 │\n",
            "╘══════════════════════╧══════════════╧═════════════╛\n"
          ]
        }
      ],
      "source": [
        "F_employement['no_of_employees'].value_counts()\n",
        "# for a company with a given amount of employees, percent applied who are female before vs after\n",
        "before_size_2 = before_df[before_df['no_of_employees'] == 2]\n",
        "before_size_3 = before_df[before_df['no_of_employees'] == 3]\n",
        "before_size_4 = before_df[before_df['no_of_employees'] == 4]\n",
        "before_size_5 = before_df[before_df['no_of_employees'] == 5]\n",
        "\n",
        "after_size_2 = after_df[after_df['no_of_employees'] == 2]\n",
        "after_size_3 = after_df[after_df['no_of_employees'] == 3]\n",
        "after_size_4 = after_df[after_df['no_of_employees'] == 4]\n",
        "after_size_5 = after_df[after_df['no_of_employees'] == 5]\n",
        "\n",
        "percent_female_size_2_before = 100*before_size_2[before_size_2['FemaleFlag'] == 1].shape[0]/before_size_2.shape[0]\n",
        "percent_female_size_3_before = 100*before_size_3[before_size_3['FemaleFlag'] == 1].shape[0]/before_size_3.shape[0]\n",
        "percent_female_size_4_before = 100*before_size_4[before_size_4['FemaleFlag'] == 1].shape[0]/before_size_4.shape[0]\n",
        "percent_female_size_5_before = 100*before_size_5[before_size_5['FemaleFlag'] == 1].shape[0]/before_size_5.shape[0]\n",
        "\n",
        "percent_female_size_2_after = 100*after_size_2[after_size_2['FemaleFlag'] == 1].shape[0]/after_size_2.shape[0]\n",
        "percent_female_size_3_after = 100*after_size_3[after_size_3['FemaleFlag'] == 1].shape[0]/after_size_3.shape[0]\n",
        "percent_female_size_4_after = 100*after_size_4[after_size_4['FemaleFlag'] == 1].shape[0]/after_size_4.shape[0]\n",
        "percent_female_size_5_after = 100*after_size_5[after_size_5['FemaleFlag'] == 1].shape[0]/after_size_5.shape[0]\n",
        "\n",
        "# Format a table to display the results\n",
        "from tabulate import tabulate\n",
        "\n",
        "# Create a list of lists with the data\n",
        "table_data = [\n",
        "    [\"Company Size\", \"Before (%)\", \"After (%)\"],\n",
        "    [\"51-200 employees\", percent_female_size_2_before, percent_female_size_2_after],\n",
        "    [\"201-1000 employees\", percent_female_size_3_before, percent_female_size_3_after],\n",
        "    [\"1001-10000 employees\", percent_female_size_4_before, percent_female_size_4_after],\n",
        "    [\"10001+ employees\", percent_female_size_5_before, percent_female_size_5_after],\n",
        "]\n",
        "\n",
        "# Print the table with a nice format\n",
        "print('Percent of applicaations being from women by company size')\n",
        "print(tabulate(table_data, headers=\"firstrow\", tablefmt=\"fancy_grid\"))\n"
      ]
    },
    {
      "cell_type": "code",
      "execution_count": 128,
      "metadata": {},
      "outputs": [
        {
          "name": "stdout",
          "output_type": "stream",
          "text": [
            "Percent of candidates applying being women by company size\n",
            "╒══════════════════════╤══════════════╤═══════════════╕\n",
            "│ Company Size         │ Before       │ After         │\n",
            "╞══════════════════════╪══════════════╪═══════════════╡\n",
            "│ 51-200 employees     │ 97674/261643 │ 131808/334543 │\n",
            "├──────────────────────┼──────────────┼───────────────┤\n",
            "│ 201-1000 employees   │ 40177/108843 │ 82528/204682  │\n",
            "├──────────────────────┼──────────────┼───────────────┤\n",
            "│ 1001-10000 employees │ 68502/180037 │ 80358/196897  │\n",
            "├──────────────────────┼──────────────┼───────────────┤\n",
            "│ 10001+ employees     │ 52823/142301 │ 109176/258448 │\n",
            "╘══════════════════════╧══════════════╧═══════════════╛\n"
          ]
        }
      ],
      "source": [
        "table_data = [\n",
        "    [\"Company Size\", \"Before\", \"After\"],\n",
        "    [\"51-200 employees\", str(before_size_2[before_size_2['FemaleFlag'] == 1].shape[0]) + '/' + str(before_size_2.shape[0]), str(after_size_2[after_size_2['FemaleFlag'] == 1].shape[0]) + '/' + str(after_size_2.shape[0])],\n",
        "    [\"201-1000 employees\", str(before_size_3[before_size_3['FemaleFlag'] == 1].shape[0]) + '/' + str(before_size_3.shape[0]), str(after_size_3[after_size_3['FemaleFlag'] == 1].shape[0]) + '/' + str(after_size_3.shape[0])],\n",
        "    [\"1001-10000 employees\", str(before_size_4[before_size_4['FemaleFlag'] == 1].shape[0]) + '/' + str(before_size_4.shape[0]), str(after_size_4[after_size_4['FemaleFlag'] == 1].shape[0]) + '/' + str(after_size_4.shape[0])],\n",
        "    [\"10001+ employees\", str(before_size_5[before_size_5['FemaleFlag'] == 1].shape[0]) + '/' + str(before_size_5.shape[0]), str(after_size_5[after_size_5['FemaleFlag'] == 1].shape[0]) + '/' + str(after_size_5.shape[0])],\n",
        "]\n",
        "\n",
        "# Print the table with a nice format\n",
        "print('Percent of candidates applying being women by company size')\n",
        "print(tabulate(table_data, headers=\"firstrow\", tablefmt=\"fancy_grid\"))\n"
      ]
    },
    {
      "cell_type": "code",
      "execution_count": 129,
      "metadata": {},
      "outputs": [
        {
          "name": "stdout",
          "output_type": "stream",
          "text": [
            "Percent of candidates interviewed being women by company size\n",
            "╒══════════════════════╤══════════════╤═════════════╕\n",
            "│ Company Size         │   Before (%) │   After (%) │\n",
            "╞══════════════════════╪══════════════╪═════════════╡\n",
            "│ 51-200 employees     │      37.7641 │     35.4806 │\n",
            "├──────────────────────┼──────────────┼─────────────┤\n",
            "│ 201-1000 employees   │      39.0476 │     36.8441 │\n",
            "├──────────────────────┼──────────────┼─────────────┤\n",
            "│ 1001-10000 employees │      39.2945 │     37.3194 │\n",
            "├──────────────────────┼──────────────┼─────────────┤\n",
            "│ 10001+ employees     │      32.6332 │     40.5108 │\n",
            "╘══════════════════════╧══════════════╧═════════════╛\n"
          ]
        }
      ],
      "source": [
        "F_employement['no_of_employees'].value_counts()\n",
        "# for a company with a given amount of employees, percent interviewed female before vs after\n",
        "before_size_2 = before_df[before_df['no_of_employees'] == 2]\n",
        "before_size_2 = before_size_2[before_size_2['CalLetterFlag'] == 1]\n",
        "before_size_3 = before_df[before_df['no_of_employees'] == 3]\n",
        "before_size_3 = before_size_3[before_size_3['CalLetterFlag'] == 1]\n",
        "before_size_4 = before_df[before_df['no_of_employees'] == 4]\n",
        "before_size_4 = before_size_4[before_size_4['CalLetterFlag'] == 1]\n",
        "before_size_5 = before_df[before_df['no_of_employees'] == 5]\n",
        "before_size_5 = before_size_5[before_size_5['CalLetterFlag'] == 1]\n",
        "\n",
        "after_size_2 = after_df[after_df['no_of_employees'] == 2]\n",
        "after_size_2 = after_size_2[after_size_2['CalLetterFlag'] == 1]\n",
        "after_size_3 = after_df[after_df['no_of_employees'] == 3]\n",
        "after_size_3 = after_size_3[after_size_3['CalLetterFlag'] == 1]\n",
        "after_size_4 = after_df[after_df['no_of_employees'] == 4]\n",
        "after_size_4 = after_size_4[after_size_4['CalLetterFlag'] == 1]\n",
        "after_size_5 = after_df[after_df['no_of_employees'] == 5]\n",
        "after_size_5 = after_size_5[after_size_5['CalLetterFlag'] == 1]\n",
        "\n",
        "percent_female_size_2_before = 100*before_size_2[before_size_2['FemaleFlag'] == 1].shape[0]/before_size_2.shape[0]\n",
        "percent_female_size_3_before = 100*before_size_3[before_size_3['FemaleFlag'] == 1].shape[0]/before_size_3.shape[0]\n",
        "percent_female_size_4_before = 100*before_size_4[before_size_4['FemaleFlag'] == 1].shape[0]/before_size_4.shape[0]\n",
        "percent_female_size_5_before = 100*before_size_5[before_size_5['FemaleFlag'] == 1].shape[0]/before_size_5.shape[0]\n",
        "\n",
        "percent_female_size_2_after = 100*after_size_2[after_size_2['FemaleFlag'] == 1].shape[0]/after_size_2.shape[0]\n",
        "percent_female_size_3_after = 100*after_size_3[after_size_3['FemaleFlag'] == 1].shape[0]/after_size_3.shape[0]\n",
        "percent_female_size_4_after = 100*after_size_4[after_size_4['FemaleFlag'] == 1].shape[0]/after_size_4.shape[0]\n",
        "percent_female_size_5_after = 100*after_size_5[after_size_5['FemaleFlag'] == 1].shape[0]/after_size_5.shape[0]\n",
        "\n",
        "# Format a table to display the results\n",
        "from tabulate import tabulate\n",
        "\n",
        "# Create a list of lists with the data\n",
        "table_data = [\n",
        "    [\"Company Size\", \"Before (%)\", \"After (%)\"],\n",
        "    [\"51-200 employees\", percent_female_size_2_before, percent_female_size_2_after],\n",
        "    [\"201-1000 employees\", percent_female_size_3_before, percent_female_size_3_after],\n",
        "    [\"1001-10000 employees\", percent_female_size_4_before, percent_female_size_4_after],\n",
        "    [\"10001+ employees\", percent_female_size_5_before, percent_female_size_5_after],\n",
        "]\n",
        "\n",
        "# Print the table with a nice format\n",
        "print('Percent of candidates interviewed being women by company size')\n",
        "print(tabulate(table_data, headers=\"firstrow\", tablefmt=\"fancy_grid\"))\n"
      ]
    },
    {
      "cell_type": "code",
      "execution_count": 130,
      "metadata": {},
      "outputs": [
        {
          "name": "stdout",
          "output_type": "stream",
          "text": [
            "Percent of candidates interviewed being women by company size\n",
            "╒══════════════════════╤════════════╤════════════╕\n",
            "│ Company Size         │ Before     │ After      │\n",
            "╞══════════════════════╪════════════╪════════════╡\n",
            "│ 51-200 employees     │ 4790/12684 │ 3145/8864  │\n",
            "├──────────────────────┼────────────┼────────────┤\n",
            "│ 201-1000 employees   │ 1640/4200  │ 2963/8042  │\n",
            "├──────────────────────┼────────────┼────────────┤\n",
            "│ 1001-10000 employees │ 6851/17435 │ 4984/13355 │\n",
            "├──────────────────────┼────────────┼────────────┤\n",
            "│ 10001+ employees     │ 2719/8332  │ 5821/14369 │\n",
            "╘══════════════════════╧════════════╧════════════╛\n"
          ]
        }
      ],
      "source": [
        "table_data = [\n",
        "    [\"Company Size\", \"Before\", \"After\"],\n",
        "    [\"51-200 employees\", str(before_size_2[before_size_2['FemaleFlag'] == 1].shape[0]) + '/' + str(before_size_2.shape[0]), str(after_size_2[after_size_2['FemaleFlag'] == 1].shape[0]) + '/' + str(after_size_2.shape[0])],\n",
        "    [\"201-1000 employees\", str(before_size_3[before_size_3['FemaleFlag'] == 1].shape[0]) + '/' + str(before_size_3.shape[0]), str(after_size_3[after_size_3['FemaleFlag'] == 1].shape[0]) + '/' + str(after_size_3.shape[0])],\n",
        "    [\"1001-10000 employees\", str(before_size_4[before_size_4['FemaleFlag'] == 1].shape[0]) + '/' + str(before_size_4.shape[0]), str(after_size_4[after_size_4['FemaleFlag'] == 1].shape[0]) + '/' + str(after_size_4.shape[0])],\n",
        "    [\"10001+ employees\", str(before_size_5[before_size_5['FemaleFlag'] == 1].shape[0]) + '/' + str(before_size_5.shape[0]), str(after_size_5[after_size_5['FemaleFlag'] == 1].shape[0]) + '/' + str(after_size_5.shape[0])],\n",
        "]\n",
        "\n",
        "# Print the table with a nice format\n",
        "print('Percent of candidates interviewed being women by company size')\n",
        "print(tabulate(table_data, headers=\"firstrow\", tablefmt=\"fancy_grid\"))\n"
      ]
    },
    {
      "cell_type": "code",
      "execution_count": null,
      "metadata": {},
      "outputs": [],
      "source": []
    }
  ],
  "metadata": {
    "colab": {
      "provenance": []
    },
    "kernelspec": {
      "display_name": "Python 3",
      "name": "python3"
    },
    "language_info": {
      "codemirror_mode": {
        "name": "ipython",
        "version": 3
      },
      "file_extension": ".py",
      "mimetype": "text/x-python",
      "name": "python",
      "nbconvert_exporter": "python",
      "pygments_lexer": "ipython3",
      "version": "3.8.18"
    }
  },
  "nbformat": 4,
  "nbformat_minor": 0
}
