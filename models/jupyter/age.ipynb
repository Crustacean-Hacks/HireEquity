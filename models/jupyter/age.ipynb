{
 "cells": [
  {
   "cell_type": "code",
   "execution_count": 1,
   "metadata": {},
   "outputs": [],
   "source": [
    "import pandas as pd\n",
    "import datetime as dt"
   ]
  },
  {
   "cell_type": "code",
   "execution_count": 12,
   "metadata": {},
   "outputs": [],
   "source": [
    "arr_before = []\n",
    "arr_after = []\n",
    "\n",
    "for chunk in pd.read_csv('Data.csv', chunksize=1000):\n",
    "    arr_after.append(chunk[chunk['api_applications_created'] > 1489039200])\n",
    "    arr_before.append(chunk[chunk['api_applications_created'] <= 1489039200])\n",
    "    \n",
    "\n",
    "BeforeLaw = pd.concat(arr_before, ignore_index=True)\n",
    "AfterLaw = pd.concat(arr_after, ignore_index=True)"
   ]
  },
  {
   "cell_type": "code",
   "execution_count": 13,
   "metadata": {},
   "outputs": [],
   "source": [
    "BeforeLaw.to_csv('BeforeLaw.csv', index=False)\n",
    "AfterLaw.to_csv('AfterLaw.csv', index=False)"
   ]
  },
  {
   "cell_type": "code",
   "execution_count": 2,
   "metadata": {},
   "outputs": [
    {
     "name": "stderr",
     "output_type": "stream",
     "text": [
      "/tmp/ipykernel_4625/1585884409.py:1: DtypeWarning: Columns (22) have mixed types. Specify dtype option on import or set low_memory=False.\n",
      "  BeforeLaw = pd.read_csv('BeforeLaw.csv')\n",
      "/tmp/ipykernel_4625/1585884409.py:2: DtypeWarning: Columns (22) have mixed types. Specify dtype option on import or set low_memory=False.\n",
      "  AfterLaw = pd.read_csv('AfterLaw.csv')\n"
     ]
    }
   ],
   "source": [
    "BeforeLaw = pd.read_csv('BeforeLaw.csv')\n",
    "AfterLaw = pd.read_csv('AfterLaw.csv')"
   ]
  },
  {
   "cell_type": "code",
   "execution_count": 3,
   "metadata": {},
   "outputs": [],
   "source": [
    "BeforeLaw = BeforeLaw[(BeforeLaw['yearBirth'] >= 1950) & (BeforeLaw['yearBirth'] <= 2007)]\n",
    "AfterLaw = AfterLaw[(AfterLaw['yearBirth'] >= 1950) & (AfterLaw['yearBirth'] <= 2007)]"
   ]
  },
  {
   "cell_type": "code",
   "execution_count": 4,
   "metadata": {},
   "outputs": [],
   "source": [
    "BeforeLaw[\"yearBirth\"] = BeforeLaw[\"yearBirth\"].astype(str)+\"-01-01\"\n",
    "AfterLaw[\"yearBirth\"] = AfterLaw[\"yearBirth\"].astype(str)+\"-01-01\""
   ]
  },
  {
   "cell_type": "code",
   "execution_count": 5,
   "metadata": {},
   "outputs": [],
   "source": [
    "BeforeLaw[\"yearBirth\"] = pd.to_datetime(BeforeLaw['yearBirth'])\n",
    "AfterLaw[\"yearBirth\"] = pd.to_datetime(AfterLaw['yearBirth'])"
   ]
  },
  {
   "cell_type": "code",
   "execution_count": 6,
   "metadata": {},
   "outputs": [],
   "source": [
    "BeforeLaw[\"api_applications_created\"] = pd.to_datetime(BeforeLaw['api_applications_created'], unit='s')\n",
    "AfterLaw[\"api_applications_created\"] = pd.to_datetime(AfterLaw['api_applications_created'], unit='s')"
   ]
  },
  {
   "cell_type": "code",
   "execution_count": 7,
   "metadata": {},
   "outputs": [],
   "source": [
    "BeforeLaw[\"ApplicantAge\"] = (BeforeLaw[\"api_applications_created\"] - BeforeLaw[\"yearBirth\"]).astype('timedelta64[s]')\n",
    "BeforeLaw[\"ApplicantAge\"] = BeforeLaw[\"ApplicantAge\"] // 31536000\n",
    "BeforeLaw[\"ApplicantAge\"] = BeforeLaw[\"ApplicantAge\"].astype(int)\n",
    "\n",
    "AfterLaw[\"ApplicantAge\"] = (AfterLaw[\"api_applications_created\"] - AfterLaw[\"yearBirth\"]).astype('timedelta64[s]')\n",
    "AfterLaw[\"ApplicantAge\"] = AfterLaw[\"ApplicantAge\"] // 31536000\n",
    "AfterLaw[\"ApplicantAge\"] = AfterLaw[\"ApplicantAge\"].astype(int)"
   ]
  },
  {
   "cell_type": "code",
   "execution_count": 8,
   "metadata": {},
   "outputs": [],
   "source": [
    "BeforeLaw = BeforeLaw[BeforeLaw[\"FemaleFlag\"] == 1]\n",
    "AfterLaw = AfterLaw[AfterLaw[\"FemaleFlag\"] == 1]\n"
   ]
  },
  {
   "cell_type": "code",
   "execution_count": 9,
   "metadata": {},
   "outputs": [
    {
     "name": "stdout",
     "output_type": "stream",
     "text": [
      "Total applications women before law:  910838\n",
      "Total applications women after law:  1518113\n",
      "\n",
      "Number of applications women under the age of 25 before law:  739680\n",
      "Number of applications women under the age of 25 after law:  1263523\n",
      "\n",
      "Number of applications women between the age of 20 and 34 before law:  165824\n",
      "Number of applications women between the age of 20 and 34 after law:  244032\n",
      "\n",
      "Number of applications women between the age of 35 and 50  before law:  3657\n",
      "Number of applications women between the age of 35 and 50  after law:  2458\n",
      "\n",
      "Number of applications women over the age of 50 before law:  1670\n",
      "Number of applications women over the age of 50 after law:  8090\n"
     ]
    }
   ],
   "source": [
    "print(\"Total applications women before law: \", BeforeLaw.shape[0])\n",
    "print(\"Total applications women after law: \", AfterLaw.shape[0])\n",
    "print()\n",
    "\n",
    "print(\"Number of applications women under the age of 25 before law: \", BeforeLaw[BeforeLaw[\"ApplicantAge\"] < 25].shape[0])\n",
    "print(\"Number of applications women under the age of 25 after law: \", AfterLaw[AfterLaw[\"ApplicantAge\"] < 25].shape[0])\n",
    "print()\n",
    "\n",
    "print(\"Number of applications women between the age of 20 and 34 before law: \", BeforeLaw[(BeforeLaw[\"ApplicantAge\"] >= 25) & (BeforeLaw[\"ApplicantAge\"] < 35)].shape[0])\n",
    "print(\"Number of applications women between the age of 20 and 34 after law: \", AfterLaw[(AfterLaw[\"ApplicantAge\"] >= 25) & (AfterLaw[\"ApplicantAge\"] < 35)].shape[0])\n",
    "print()\n",
    "\n",
    "print(\"Number of applications women between the age of 35 and 50  before law: \", BeforeLaw[(BeforeLaw[\"ApplicantAge\"] >= 35) & (BeforeLaw[\"ApplicantAge\"] < 50)].shape[0])\n",
    "print(\"Number of applications women between the age of 35 and 50  after law: \", AfterLaw[(AfterLaw[\"ApplicantAge\"] >= 35) & (AfterLaw[\"ApplicantAge\"] < 50)].shape[0])\n",
    "print()\n",
    "\n",
    "print(\"Number of applications women over the age of 50 before law: \", BeforeLaw[BeforeLaw[\"ApplicantAge\"] > 50].shape[0])\n",
    "print(\"Number of applications women over the age of 50 after law: \", AfterLaw[AfterLaw[\"ApplicantAge\"] > 50].shape[0])\n"
   ]
  },
  {
   "cell_type": "code",
   "execution_count": 12,
   "metadata": {},
   "outputs": [
    {
     "name": "stdout",
     "output_type": "stream",
     "text": [
      "Total number of callbacks pre-law:  30571\n",
      "Total number of callbacks post-law:  42267\n",
      "\n",
      "Number of callbacks women under the age of 25 before law:  26449\n",
      "Number of callbacks women under the age of 25 after law:  37408\n",
      "\n",
      "Number of callbacks women between the age of 20 and 34 before law:  3950\n",
      "Number of callbacks women between the age of 20 and 34 after law:  4627\n",
      "\n",
      "Number of callbacks women between the age of 35 and 50  before law:  127\n",
      "Number of callbacks women between the age of 35 and 50  after law:  49\n",
      "\n",
      "Number of callbacks women over the age of 50 before law:  45\n",
      "Number of callbacks women over the age of 50 after law:  183\n"
     ]
    }
   ],
   "source": [
    "print(\"Total number of callbacks pre-law: \", BeforeLaw[\"CalLetterFlag\"].sum())\n",
    "print(\"Total number of callbacks post-law: \", AfterLaw[\"CalLetterFlag\"].sum())\n",
    "print()\n",
    "\n",
    "print(\"Number of callbacks women under the age of 25 before law: \", BeforeLaw[BeforeLaw[\"ApplicantAge\"] < 25][\"CalLetterFlag\"].sum())\n",
    "print(\"Number of callbacks women under the age of 25 after law: \", AfterLaw[AfterLaw[\"ApplicantAge\"] < 25][\"CalLetterFlag\"].sum())\n",
    "print()\n",
    "\n",
    "print(\"Number of callbacks women between the age of 20 and 34 before law: \", BeforeLaw[(BeforeLaw[\"ApplicantAge\"] >= 25) & (BeforeLaw[\"ApplicantAge\"] < 35)][\"CalLetterFlag\"].sum())\n",
    "print(\"Number of callbacks women between the age of 20 and 34 after law: \", AfterLaw[(AfterLaw[\"ApplicantAge\"] >= 25) & (AfterLaw[\"ApplicantAge\"] < 35)][\"CalLetterFlag\"].sum())\n",
    "print()\n",
    "\n",
    "print(\"Number of callbacks women between the age of 35 and 50  before law: \", BeforeLaw[(BeforeLaw[\"ApplicantAge\"] >= 35) & (BeforeLaw[\"ApplicantAge\"] < 50)][\"CalLetterFlag\"].sum())\n",
    "print(\"Number of callbacks women between the age of 35 and 50  after law: \", AfterLaw[(AfterLaw[\"ApplicantAge\"] >= 35) & (AfterLaw[\"ApplicantAge\"] < 50)][\"CalLetterFlag\"].sum())\n",
    "print()\n",
    "\n",
    "print(\"Number of callbacks women over the age of 50 before law: \", BeforeLaw[BeforeLaw[\"ApplicantAge\"] > 50][\"CalLetterFlag\"].sum())\n",
    "print(\"Number of callbacks women over the age of 50 after law: \", AfterLaw[AfterLaw[\"ApplicantAge\"] > 50][\"CalLetterFlag\"].sum())\n",
    "\n"
   ]
  }
 ],
 "metadata": {
  "kernelspec": {
   "display_name": "venv",
   "language": "python",
   "name": "python3"
  },
  "language_info": {
   "codemirror_mode": {
    "name": "ipython",
    "version": 3
   },
   "file_extension": ".py",
   "mimetype": "text/x-python",
   "name": "python",
   "nbconvert_exporter": "python",
   "pygments_lexer": "ipython3",
   "version": "3.10.12"
  }
 },
 "nbformat": 4,
 "nbformat_minor": 2
}
