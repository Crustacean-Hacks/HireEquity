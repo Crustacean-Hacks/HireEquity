{
 "cells": [
  {
   "cell_type": "code",
   "execution_count": 2,
   "metadata": {},
   "outputs": [],
   "source": [
    "import pandas as pd"
   ]
  },
  {
   "cell_type": "code",
   "execution_count": 3,
   "metadata": {},
   "outputs": [
    {
     "name": "stderr",
     "output_type": "stream",
     "text": [
      "/tmp/ipykernel_3932/1585884409.py:1: DtypeWarning: Columns (22) have mixed types. Specify dtype option on import or set low_memory=False.\n",
      "  BeforeLaw = pd.read_csv('BeforeLaw.csv')\n",
      "/tmp/ipykernel_3932/1585884409.py:2: DtypeWarning: Columns (22) have mixed types. Specify dtype option on import or set low_memory=False.\n",
      "  AfterLaw = pd.read_csv('AfterLaw.csv')\n"
     ]
    }
   ],
   "source": [
    "BeforeLaw = pd.read_csv('BeforeLaw.csv')\n",
    "AfterLaw = pd.read_csv('AfterLaw.csv')"
   ]
  },
  {
   "cell_type": "code",
   "execution_count": 4,
   "metadata": {},
   "outputs": [],
   "source": [
    "BeforeLaw = BeforeLaw[BeforeLaw[\"FemaleFlag\"] == 1]\n",
    "AfterLaw = AfterLaw[AfterLaw[\"FemaleFlag\"] == 1]"
   ]
  },
  {
   "cell_type": "code",
   "execution_count": 7,
   "metadata": {},
   "outputs": [
    {
     "name": "stdout",
     "output_type": "stream",
     "text": [
      "Total applicants with a CGPA pre law: 330637\n",
      "Total applicants with a CGPA post law: 461243\n",
      "\n",
      "A range of CGPA values\n",
      "Number of applications women with a CGPA of 10.0-8.0 pre law:  1707\n",
      "Number of applications women women with a CGPA of 10.0-8.0 post law:  7240\n",
      "\n",
      "B range of CGPA values\n",
      "Number of applications women with a CGPA of 7.9-6.5 pre law:  141427\n",
      "Number of applications women women with a CGPA of 7.9-6.5 post law:  172720\n",
      "\n",
      "C range of CGPA values\n",
      "Number of applications women with a CGPA of 6.49-5.0 pre law:  175864\n",
      "Number of applications women women with a CGPA of 6.49-5.0 post law:  259490\n",
      "\n",
      "D-F range of CGPA values\n",
      "Number of applications women with a CGPA less than 5.0 pre law:  3337\n",
      "Number of applications women women with a CGPA less than 5.0 post law:  2561\n",
      "\n"
     ]
    }
   ],
   "source": [
    "\n",
    "print(\"Total applicants with a CGPA pre law:\", BeforeLaw[BeforeLaw[\"hq_marks_cgpa_from\"] > 0].shape[0])\n",
    "print(\"Total applicants with a CGPA post law:\", AfterLaw[AfterLaw[\"hq_marks_cgpa_from\"] > 0].shape[0])\n",
    "print()\n",
    "\n",
    "\n",
    "print(\"A range of CGPA values\")\n",
    "print(\"Number of applications women with a CGPA of 10.0-8.0 pre law: \", BeforeLaw[BeforeLaw[\"hq_marks_cgpa_from\"] > 8.0].shape[0])\n",
    "print(\"Number of applications women women with a CGPA of 10.0-8.0 post law: \", AfterLaw[AfterLaw[\"hq_marks_cgpa_from\"] > 8.0].shape[0])\n",
    "print()\n",
    "\n",
    "print(\"B range of CGPA values\")\n",
    "print(\"Number of applications women with a CGPA of 7.9-6.5 pre law: \", BeforeLaw[(BeforeLaw[\"hq_marks_cgpa_from\"] < 8.0) & (BeforeLaw[\"hq_marks_cgpa_from\"] >= 6.5)].shape[0])\n",
    "print(\"Number of applications women women with a CGPA of 7.9-6.5 post law: \", AfterLaw[(AfterLaw[\"hq_marks_cgpa_from\"] < 8.0) & (AfterLaw[\"hq_marks_cgpa_from\"] >= 6.5)].shape[0])\n",
    "print()\n",
    "\n",
    "print(\"C range of CGPA values\")\n",
    "print(\"Number of applications women with a CGPA of 6.49-5.0 pre law: \", BeforeLaw[(BeforeLaw[\"hq_marks_cgpa_from\"] < 6.5) & (BeforeLaw[\"hq_marks_cgpa_from\"] >= 5.0)].shape[0])\n",
    "print(\"Number of applications women women with a CGPA of 6.49-5.0 post law: \", AfterLaw[(AfterLaw[\"hq_marks_cgpa_from\"] < 6.5) & (AfterLaw[\"hq_marks_cgpa_from\"] >= 5.0)].shape[0])\n",
    "print()\n",
    "\n",
    "print(\"D-F range of CGPA values\")\n",
    "print(\"Number of applications women with a CGPA less than 5.0 pre law: \", BeforeLaw[BeforeLaw[\"hq_marks_cgpa_from\"] < 5.0].shape[0])\n",
    "print(\"Number of applications women women with a CGPA less than 5.0 post law: \", AfterLaw[AfterLaw[\"hq_marks_cgpa_from\"] < 5.0].shape[0])\n",
    "print()"
   ]
  },
  {
   "cell_type": "code",
   "execution_count": 8,
   "metadata": {},
   "outputs": [
    {
     "name": "stdout",
     "output_type": "stream",
     "text": [
      "Total callbacks with a CGPA pre law: 12198\n",
      "Total callbacks with a CGPA post law: 17394\n",
      "\n",
      "A range of CGPA values\n",
      "Number of callbacks women with a CGPA of 10.0-8.0 pre law:  10\n",
      "Number of callbacks women women with a CGPA of 10.0-8.0 post law:  10\n",
      "\n",
      "B range of CGPA values\n",
      "Number of callbacks women with a CGPA of 7.9-6.5 pre law:  4822\n",
      "Number of callbacks women women with a CGPA of 7.9-6.5 post law:  6122\n",
      "\n",
      "C range of CGPA values\n",
      "Number of callbacks women with a CGPA of 6.49-5.0 pre law:  7246\n",
      "Number of callbacks women women with a CGPA of 6.49-5.0 post law:  10827\n",
      "\n",
      "D-F range of CGPA values\n",
      "Number of callbacks women with a CGPA less than 5.0 pre law:  20\n",
      "Number of callbacks women women with a CGPA less than 5.0 post law:  22\n",
      "\n"
     ]
    }
   ],
   "source": [
    "\n",
    "print(\"Total callbacks with a CGPA pre law:\", BeforeLaw[BeforeLaw[\"hq_marks_cgpa_from\"] > 0][\"CalLetterFlag\"].sum())\n",
    "print(\"Total callbacks with a CGPA post law:\", AfterLaw[AfterLaw[\"hq_marks_cgpa_from\"] > 0][\"CalLetterFlag\"].sum())\n",
    "print()\n",
    "\n",
    "\n",
    "print(\"A range of CGPA values\")\n",
    "print(\"Number of callbacks women with a CGPA of 10.0-8.0 pre law: \", BeforeLaw[BeforeLaw[\"hq_marks_cgpa_from\"] > 8.0][\"CalLetterFlag\"].sum())\n",
    "print(\"Number of callbacks women women with a CGPA of 10.0-8.0 post law: \", AfterLaw[AfterLaw[\"hq_marks_cgpa_from\"] > 8.0][\"CalLetterFlag\"].sum())\n",
    "print()\n",
    "\n",
    "print(\"B range of CGPA values\")\n",
    "print(\"Number of callbacks women with a CGPA of 7.9-6.5 pre law: \", BeforeLaw[(BeforeLaw[\"hq_marks_cgpa_from\"] < 8.0) & (BeforeLaw[\"hq_marks_cgpa_from\"] >= 6.5)][\"CalLetterFlag\"].sum())\n",
    "print(\"Number of callbacks women women with a CGPA of 7.9-6.5 post law: \", AfterLaw[(AfterLaw[\"hq_marks_cgpa_from\"] < 8.0) & (AfterLaw[\"hq_marks_cgpa_from\"] >= 6.5)][\"CalLetterFlag\"].sum())\n",
    "print()\n",
    "\n",
    "print(\"C range of CGPA values\")\n",
    "print(\"Number of callbacks women with a CGPA of 6.49-5.0 pre law: \", BeforeLaw[(BeforeLaw[\"hq_marks_cgpa_from\"] < 6.5) & (BeforeLaw[\"hq_marks_cgpa_from\"] >= 5.0)][\"CalLetterFlag\"].sum())\n",
    "print(\"Number of callbacks women women with a CGPA of 6.49-5.0 post law: \", AfterLaw[(AfterLaw[\"hq_marks_cgpa_from\"] < 6.5) & (AfterLaw[\"hq_marks_cgpa_from\"] >= 5.0)][\"CalLetterFlag\"].sum())\n",
    "print()\n",
    "\n",
    "print(\"D-F range of CGPA values\")\n",
    "print(\"Number of callbacks women with a CGPA less than 5.0 pre law: \", BeforeLaw[BeforeLaw[\"hq_marks_cgpa_from\"] < 5.0][\"CalLetterFlag\"].sum())\n",
    "print(\"Number of callbacks women women with a CGPA less than 5.0 post law: \", AfterLaw[AfterLaw[\"hq_marks_cgpa_from\"] < 5.0][\"CalLetterFlag\"].sum())\n",
    "print()"
   ]
  }
 ],
 "metadata": {
  "kernelspec": {
   "display_name": "venv",
   "language": "python",
   "name": "python3"
  },
  "language_info": {
   "codemirror_mode": {
    "name": "ipython",
    "version": 3
   },
   "file_extension": ".py",
   "mimetype": "text/x-python",
   "name": "python",
   "nbconvert_exporter": "python",
   "pygments_lexer": "ipython3",
   "version": "3.10.12"
  }
 },
 "nbformat": 4,
 "nbformat_minor": 2
}
